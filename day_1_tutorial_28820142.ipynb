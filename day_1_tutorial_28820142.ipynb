{
  "cells": [
    {
      "cell_type": "markdown",
      "metadata": {
        "id": "Rshr4HHAlS2Y"
      },
      "source": [
        "# Tutorial: Hello Bash and Python\n",
        "\n",
        "In this tutorial we will familiarise ourselves with bash and python, and Notebooks (inadvertantly). Please load this notebook in `colab.research.google.com` if you do not have a local instance of JupyterHub/JupyterLab running.\n",
        "\n",
        "\n",
        "Submission:\n",
        "\n",
        "The submission for this tutorial requires a submission on Git, as well as one on SUNLearn.\n",
        "\n",
        "\n"
      ]
    },
    {
      "cell_type": "code",
      "execution_count": null,
      "metadata": {
        "id": "bMdmcNvwlS2c"
      },
      "outputs": [],
      "source": [
        "import pandas as pd"
      ]
    },
    {
      "cell_type": "markdown",
      "metadata": {
        "id": "QBZWaTKRlS2d"
      },
      "source": [
        "## Question 1: Bash\n",
        "\n",
        "Retrieve data and interogate it with bash before using python tooling. This is useful as you may struggle with type or malformed files and a quick interogation may reveal those issues.\n"
      ]
    },
    {
      "cell_type": "markdown",
      "metadata": {
        "id": "TJ0bSZQqlS2d"
      },
      "source": [
        "### Question 1.1\n",
        "\n",
        "Run the bash command `wget` to retrieve a file located at `https://storage.googleapis.com/bdt-beam/users_v.csv` [1]"
      ]
    },
    {
      "cell_type": "code",
      "execution_count": 1,
      "metadata": {
        "colab": {
          "base_uri": "https://localhost:8080/"
        },
        "id": "RyzW586UlS2e",
        "outputId": "0b236469-9725-41c5-f4c8-e5946b884145"
      },
      "outputs": [
        {
          "output_type": "stream",
          "name": "stdout",
          "text": [
            "--2024-09-10 20:19:37--  https://storage.googleapis.com/bdt-beam/users_v.csv\n",
            "Resolving storage.googleapis.com (storage.googleapis.com)... 64.233.188.207, 64.233.189.207, 108.177.97.207, ...\n",
            "Connecting to storage.googleapis.com (storage.googleapis.com)|64.233.188.207|:443... connected.\n",
            "HTTP request sent, awaiting response... 200 OK\n",
            "Length: 143675 (140K) [text/csv]\n",
            "Saving to: ‘users_v.csv’\n",
            "\n",
            "users_v.csv         100%[===================>] 140.31K   203KB/s    in 0.7s    \n",
            "\n",
            "2024-09-10 20:19:40 (203 KB/s) - ‘users_v.csv’ saved [143675/143675]\n",
            "\n"
          ]
        }
      ],
      "source": [
        "!wget https://storage.googleapis.com/bdt-beam/users_v.csv\n"
      ]
    },
    {
      "cell_type": "markdown",
      "metadata": {
        "id": "iUsHKkQRlS2e"
      },
      "source": [
        "### Question 1.2\n",
        "\n",
        "Use a bash command to view the top ten elements of the file (to confirm that things are as you expect) [1]"
      ]
    },
    {
      "cell_type": "code",
      "execution_count": 2,
      "metadata": {
        "colab": {
          "base_uri": "https://localhost:8080/"
        },
        "id": "SKPKrDcalS2e",
        "outputId": "a98a71b5-ae20-440c-b1f1-64335da6596b"
      },
      "outputs": [
        {
          "output_type": "stream",
          "name": "stdout",
          "text": [
            "user_id,name,gender,age,address,date_joined\n",
            "1,Anthony Wolf,male,73,New Rachelburgh-VA-49583,2019/03/13\n",
            "2,James Armstrong,male,56,North Jillianfort-UT-86454,2020/11/06\n",
            "3,Cody Shaw,male,75,North Anne-SC-53799,2004/05/29\n",
            "4,Sierra Hamilton,female,76,New Angelafurt-ME-46190,2005/08/26\n",
            "5,Chase Davis,male,31,South Bethmouth-WI-18562,2018/04/30\n",
            "6,Sierra Andrews,female,21,Ryanville-MI-69690,2007/05/25\n",
            "7,Ann Stone,female,41,Smithmouth-SD-17340,2005/01/05\n",
            "8,Karen Santos,female,34,Mariaville-AK-29888,2003/12/12\n",
            "9,Ronald Meyer,male,41,North Cherylhaven-NJ-04197,2015/11/14\n"
          ]
        }
      ],
      "source": [
        "!head -n 10 users_v.csv\n"
      ]
    },
    {
      "cell_type": "markdown",
      "metadata": {
        "id": "AtTHcSPElS2f"
      },
      "source": [
        "### Question 1.3\n",
        "\n",
        "Use a bash command to determine the number of rows in the file [1]"
      ]
    },
    {
      "cell_type": "code",
      "execution_count": 3,
      "metadata": {
        "colab": {
          "base_uri": "https://localhost:8080/"
        },
        "id": "a6yF7Eo8lS2f",
        "outputId": "66a10bff-5336-4626-b905-82df61497cd1"
      },
      "outputs": [
        {
          "output_type": "stream",
          "name": "stdout",
          "text": [
            "2358 users_v.csv\n"
          ]
        }
      ],
      "source": [
        "!wc -l users_v.csv\n"
      ]
    },
    {
      "cell_type": "markdown",
      "metadata": {
        "id": "Jq8SjoV_lS2f"
      },
      "source": [
        "### Question 1.4\n",
        "\n",
        "Suppose the file is too large for initial exploration, let's take a quick sample so that we can continue working to see what is in the data set. Loading it into Pandas at this point will mean that we are using all that memory in any case, so let's sample it before we load it.\n",
        "\n",
        "Take a random sample of the file (limited the result to 1000 lines) and create another file called `users_sample.csv`, using only bash commands [3]\n",
        "\n",
        "Hint: redirect a stream into a the output file."
      ]
    },
    {
      "cell_type": "code",
      "execution_count": 4,
      "metadata": {
        "id": "XpM2ge4HlS2g"
      },
      "outputs": [],
      "source": [
        "!shuf -n 1000 users_v.csv > users_sample.csv\n"
      ]
    },
    {
      "cell_type": "markdown",
      "metadata": {
        "id": "-n8vaJOHlS2g"
      },
      "source": [
        "### Question 1.5\n",
        "\n",
        "* Sort your file by ascending `user_id`s [1]\n",
        "* Overwrite the current `users_sample.csv` with the ordered content [1]\n",
        "* Print the last ten lines of this file [1]"
      ]
    },
    {
      "cell_type": "code",
      "execution_count": 5,
      "metadata": {
        "id": "f0HO7t4olS2g"
      },
      "outputs": [],
      "source": [
        "!sort -t, -k1,1n users_sample.csv > users_sample_sorted.csv\n"
      ]
    },
    {
      "cell_type": "markdown",
      "metadata": {
        "id": "Seug2j1QlS2g"
      },
      "source": [
        "## Question 2: Python\n",
        "\n",
        "Perform analysis with Python"
      ]
    },
    {
      "cell_type": "markdown",
      "metadata": {
        "id": "-TNtqLQslS2h"
      },
      "source": [
        "### Question 2.1\n",
        "\n",
        "Load the original `users_v.csv` into a Pandas dataframe [1]"
      ]
    },
    {
      "cell_type": "code",
      "execution_count": 6,
      "metadata": {
        "id": "gsUqcHdJlS2h"
      },
      "outputs": [],
      "source": [
        "import pandas as pd\n",
        "\n",
        "df = pd.read_csv('users_v.csv')\n"
      ]
    },
    {
      "cell_type": "markdown",
      "metadata": {
        "id": "i3Rz3acylS2h"
      },
      "source": [
        "### Question 2.2\n",
        "\n",
        "Display/print the top ten lines of the dataframe [1]\n",
        "\n"
      ]
    },
    {
      "cell_type": "code",
      "execution_count": 7,
      "metadata": {
        "colab": {
          "base_uri": "https://localhost:8080/"
        },
        "id": "Sk_aaIoxlS2h",
        "outputId": "2cc5e56e-e7ef-4854-c275-e61cc0dac90d"
      },
      "outputs": [
        {
          "output_type": "stream",
          "name": "stdout",
          "text": [
            "   user_id             name  gender  age                     address  \\\n",
            "0        1     Anthony Wolf    male   73    New Rachelburgh-VA-49583   \n",
            "1        2  James Armstrong    male   56  North Jillianfort-UT-86454   \n",
            "2        3        Cody Shaw    male   75         North Anne-SC-53799   \n",
            "3        4  Sierra Hamilton  female   76     New Angelafurt-ME-46190   \n",
            "4        5      Chase Davis    male   31    South Bethmouth-WI-18562   \n",
            "5        6   Sierra Andrews  female   21          Ryanville-MI-69690   \n",
            "6        7        Ann Stone  female   41         Smithmouth-SD-17340   \n",
            "7        8     Karen Santos  female   34         Mariaville-AK-29888   \n",
            "8        9     Ronald Meyer    male   41  North Cherylhaven-NJ-04197   \n",
            "9       10    Steven Rivera    male   43          Wayneside-VT-29040   \n",
            "\n",
            "  date_joined  \n",
            "0  2019/03/13  \n",
            "1  2020/11/06  \n",
            "2  2004/05/29  \n",
            "3  2005/08/26  \n",
            "4  2018/04/30  \n",
            "5  2007/05/25  \n",
            "6  2005/01/05  \n",
            "7  2003/12/12  \n",
            "8  2015/11/14  \n",
            "9  2003/05/15  \n"
          ]
        }
      ],
      "source": [
        "print(df.head(10))\n"
      ]
    },
    {
      "cell_type": "markdown",
      "metadata": {
        "id": "Dlk8yqaclS2h"
      },
      "source": [
        "### Question 2.3\n",
        "\n",
        "Find the age of the oldest and youngest person in the dataset [1]\n",
        "\n",
        "Hint: you can use the `print(..., ...)` function to display the two values if you construct it as two arguments"
      ]
    },
    {
      "cell_type": "code",
      "execution_count": 8,
      "metadata": {
        "colab": {
          "base_uri": "https://localhost:8080/"
        },
        "id": "ykBhDXpMlS2h",
        "outputId": "a2ba1c06-5bed-49b3-8e64-6d09fd8459c6"
      },
      "outputs": [
        {
          "output_type": "stream",
          "name": "stdout",
          "text": [
            "Oldest age: 80, Youngest age: 18\n"
          ]
        }
      ],
      "source": [
        "oldest_age = df['age'].max()\n",
        "youngest_age = df['age'].min()\n",
        "print(f\"Oldest age: {oldest_age}, Youngest age: {youngest_age}\")\n"
      ]
    },
    {
      "cell_type": "markdown",
      "metadata": {
        "id": "gdAMVOM0lS2h"
      },
      "source": [
        "### Question 2.4\n",
        "\n",
        "Draw descriptive statistics (one-liner) for the `age` column - these statistics should include `count`, `mean`, and `std` [1]\n",
        "\n",
        "Hint: this command has a parallel in R"
      ]
    },
    {
      "cell_type": "code",
      "execution_count": 9,
      "metadata": {
        "colab": {
          "base_uri": "https://localhost:8080/"
        },
        "id": "TLXBoywGlS2i",
        "outputId": "90fea9d4-52c0-4e05-b007-db9e0e49eb74"
      },
      "outputs": [
        {
          "output_type": "stream",
          "name": "stdout",
          "text": [
            "count    2357.000000\n",
            "mean       49.054731\n",
            "std        18.206348\n",
            "min        18.000000\n",
            "25%        33.000000\n",
            "50%        49.000000\n",
            "75%        65.000000\n",
            "max        80.000000\n",
            "Name: age, dtype: float64\n"
          ]
        }
      ],
      "source": [
        "print(df['age'].describe())\n"
      ]
    },
    {
      "cell_type": "markdown",
      "metadata": {
        "id": "tyNkGtIqlS2i"
      },
      "source": [
        "### Question 2.5\n",
        "\n",
        "* Using anonymous functions (`lambda`), create a `surname` column from the name column (you may assume that the last word without a space is the surname) [2]\n",
        "* Display the last 10 lines of your dataframe [1]\n"
      ]
    },
    {
      "cell_type": "code",
      "execution_count": 10,
      "metadata": {
        "colab": {
          "base_uri": "https://localhost:8080/"
        },
        "id": "VpusuRF5lS2i",
        "outputId": "aafcc2a5-c510-4572-e21f-2452f95961f3"
      },
      "outputs": [
        {
          "output_type": "stream",
          "name": "stdout",
          "text": [
            "      user_id                 name  gender  age                    address  \\\n",
            "2347     2348     Victoria Edwards  female   68    Lake Jamesberg-NY-88824   \n",
            "2348     2349          Chris Ellis    male   46  Port Richardside-NY-77994   \n",
            "2349     2350       Kimberly Smith  female   19      East Anthony-GA-00646   \n",
            "2350     2351       William Nelson    male   67   Lake Parkerside-MN-06905   \n",
            "2351     2352          Nancy Clark  female   80        Jamesshire-AK-88437   \n",
            "2352     2353      Brittney Graham  female   40         Brownland-CO-71229   \n",
            "2353     2354      Allison Schmidt  female   43        Port Logan-MD-38588   \n",
            "2354     2355  Christopher Johnson    male   68   North Justinton-VA-32798   \n",
            "2355     2356           Mark Brown    male   67    New Kayleefurt-MA-82581   \n",
            "2356     2357      Steven Robinson    male   45         Mistytown-HI-31737   \n",
            "\n",
            "     date_joined   surname  \n",
            "2347  2001/09/03   Edwards  \n",
            "2348  2011/03/18     Ellis  \n",
            "2349  2021/06/20     Smith  \n",
            "2350  2005/12/21    Nelson  \n",
            "2351  2001/12/12     Clark  \n",
            "2352  2005/07/10    Graham  \n",
            "2353  2008/11/30   Schmidt  \n",
            "2354  2006/08/01   Johnson  \n",
            "2355  2013/11/16     Brown  \n",
            "2356  2015/03/21  Robinson  \n"
          ]
        }
      ],
      "source": [
        "df['surname'] = df['name'].apply(lambda x: x.split()[-1])\n",
        "print(df.tail(10))\n"
      ]
    },
    {
      "cell_type": "markdown",
      "metadata": {
        "id": "IZuNk-yclS2i"
      },
      "source": [
        "### Question 2.6\n",
        "\n",
        "* Convert `date_joined` to a pandas series of type `datetime`  [1]\n",
        "* Overwrite the original `date_joined` column with the result [1]"
      ]
    },
    {
      "cell_type": "code",
      "execution_count": 11,
      "metadata": {
        "id": "nbfVRPVtlS2i"
      },
      "outputs": [],
      "source": [
        "df['date_joined'] = pd.to_datetime(df['date_joined'])\n"
      ]
    },
    {
      "cell_type": "code",
      "execution_count": null,
      "metadata": {
        "id": "aoGl6HBrlS2i"
      },
      "outputs": [],
      "source": []
    },
    {
      "cell_type": "markdown",
      "metadata": {
        "id": "a0jQRjbjlS2i"
      },
      "source": [
        "## Question 3: Git\n",
        "\n",
        "Push your notebook to Git. If you don't have any Git tooling installed on your machines, download a preferred tool.\n",
        "\n",
        " * Create a repository (named `day1-tutorial`) on Gitlab (check your student email for sign-up/membership request to Gitlab) [1]\n",
        " * Push this notebook to that repository [1]"
      ]
    },
    {
      "cell_type": "code",
      "execution_count": 12,
      "metadata": {
        "colab": {
          "base_uri": "https://localhost:8080/"
        },
        "id": "wm07TCkylS2i",
        "outputId": "09b34755-9e7d-4845-a93f-2bee66941753"
      },
      "outputs": [
        {
          "output_type": "stream",
          "name": "stdout",
          "text": [
            "\u001b[33mhint: Using 'master' as the name for the initial branch. This default branch name\u001b[m\n",
            "\u001b[33mhint: is subject to change. To configure the initial branch name to use in all\u001b[m\n",
            "\u001b[33mhint: of your new repositories, which will suppress this warning, call:\u001b[m\n",
            "\u001b[33mhint: \u001b[m\n",
            "\u001b[33mhint: \tgit config --global init.defaultBranch <name>\u001b[m\n",
            "\u001b[33mhint: \u001b[m\n",
            "\u001b[33mhint: Names commonly chosen instead of 'master' are 'main', 'trunk' and\u001b[m\n",
            "\u001b[33mhint: 'development'. The just-created branch can be renamed via this command:\u001b[m\n",
            "\u001b[33mhint: \u001b[m\n",
            "\u001b[33mhint: \tgit branch -m <name>\u001b[m\n",
            "Initialized empty Git repository in /content/.git/\n",
            "fatal: pathspec 'hello-python-git-assessment.ipynb' did not match any files\n",
            "Author identity unknown\n",
            "\n",
            "*** Please tell me who you are.\n",
            "\n",
            "Run\n",
            "\n",
            "  git config --global user.email \"you@example.com\"\n",
            "  git config --global user.name \"Your Name\"\n",
            "\n",
            "to set your account's default identity.\n",
            "Omit --global to set the identity only in this repository.\n",
            "\n",
            "fatal: unable to auto-detect email address (got 'root@24c8736c5b42.(none)')\n",
            "/bin/bash: -c: line 1: syntax error near unexpected token `newline'\n",
            "/bin/bash: -c: line 1: `git remote add origin <your_gitlab_repository_url>'\n",
            "error: src refspec main does not match any\n",
            "\u001b[31merror: failed to push some refs to 'origin'\n",
            "\u001b[m"
          ]
        }
      ],
      "source": [
        "!git init\n",
        "!git add hello-python-git-assessment.ipynb\n",
        "!git commit -m \"Initial commit\"\n",
        "!git remote add origin <your_gitlab_repository_url>\n",
        "!git branch -M main\n",
        "!git push -u origin main\n"
      ]
    },
    {
      "cell_type": "markdown",
      "metadata": {
        "id": "r0zHW9holS2i"
      },
      "source": [
        "## The End\n",
        "\n",
        "Now that it is a datetime, we can how many users signed up/registered."
      ]
    },
    {
      "cell_type": "code",
      "execution_count": null,
      "metadata": {
        "id": "-yRp9EKNlS2j"
      },
      "outputs": [],
      "source": [
        "import matplotlib\n",
        "\n",
        "%matplotlib inline\n",
        "\n",
        "df.user_id.groupby([df.date_joined.dt.year]).count().plot(kind=\"bar\")"
      ]
    },
    {
      "cell_type": "code",
      "execution_count": 13,
      "metadata": {
        "colab": {
          "base_uri": "https://localhost:8080/",
          "height": 493
        },
        "id": "YRjaTRrklS2j",
        "outputId": "9042802c-6805-411a-bcb3-31ed481c4785"
      },
      "outputs": [
        {
          "output_type": "display_data",
          "data": {
            "text/plain": [
              "<Figure size 640x480 with 1 Axes>"
            ],
            "image/png": "[encoded data removed]"
          },
          "metadata": {}
        }
      ],
      "source": [
        "import matplotlib.pyplot as plt\n",
        "\n",
        "df['date_joined'].dt.year.value_counts().sort_index().plot(kind='bar')\n",
        "plt.xlabel('Year')\n",
        "plt.ylabel('Number of Users')\n",
        "plt.title('Number of Users per Year')\n",
        "plt.show()\n"
      ]
    }
  ],
  "metadata": {
    "kernelspec": {
      "display_name": "bdt-a3",
      "language": "python",
      "name": "bdt-a3"
    },
    "language_info": {
      "codemirror_mode": {
        "name": "ipython",
        "version": 3
      },
      "file_extension": ".py",
      "mimetype": "text/x-python",
      "name": "python",
      "nbconvert_exporter": "python",
      "pygments_lexer": "ipython3",
      "version": "3.6.9"
    },
    "colab": {
      "provenance": []
    }
  },
  "nbformat": 4,
  "nbformat_minor": 0
}